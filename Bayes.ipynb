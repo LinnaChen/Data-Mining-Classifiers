{
 "cells": [
  {
   "cell_type": "markdown",
   "metadata": {},
   "source": [
    "## Native Bayes Classifer"
   ]
  },
  {
   "cell_type": "code",
   "execution_count": 1,
   "metadata": {},
   "outputs": [],
   "source": [
    "import numpy as np\n",
    "import pandas as pd\n",
    "from math import log, exp\n",
    "from collections import defaultdict"
   ]
  },
  {
   "cell_type": "code",
   "execution_count": 2,
   "metadata": {},
   "outputs": [],
   "source": [
    "class NaiveBayesClassifier():\n",
    "    def __init__(self):\n",
    "        self.priors = None\n",
    "        self.posteriors = None\n",
    "\n",
    "\n",
    "    def train(self, X, y):\n",
    "#         Fits training instances X and class labels y to a supervised Naive Bayes model.\n",
    "#         Uses Laplace Smoothing to make all posterior probabilities non-zero.\n",
    "\n",
    "        def calculate_priors(class_list):\n",
    "#         Calculate the class priors and fits them to the classifier.\n",
    "         \n",
    "            prior_dd = defaultdict(int)\n",
    "            # Count all class labels and add to dictionary\n",
    "            for class_label in class_list:\n",
    "                prior_dd[class_label] += 1\n",
    "            self.priors = dict(prior_dd)\n",
    "\n",
    "\n",
    "        def calculate_posteriors(priors_dict, instance_list, class_list):\n",
    "#                 calculate_posteriors takes in a dictionary or prior probabilities for class labels,\n",
    "#                  It calculates and fits posterior probabilities to the classifier.\n",
    "\n",
    "\n",
    "            # Initialize a list of dictionaries, one for each attribute\n",
    "            posteriors_dictlist = [dict() for x in range(len(instance_list))]\n",
    "\n",
    "            # Initialize a default dict for each class label, for each attribute dictionary\n",
    "            for attribute_dd in posteriors_dictlist:\n",
    "                for class_label in priors_dict.keys():\n",
    "                    # Start at 1 for Laplace smoothing\n",
    "                    attribute_dd[class_label] = defaultdict(lambda:1)\n",
    "\n",
    "\n",
    "            # Count the number of instances for each conditional probability P(Attribute=attr_instance | Class)\n",
    "            for col in range(len(instance_list)):\n",
    "                for row in range(len(instance_list[col])):\n",
    "                    \n",
    "                    posteriors_dictlist[col][class_list[row]][instance_list[col][row]] += 1\n",
    "                \n",
    "                # Keep track of all attribute possibilites\n",
    "                attr_set = set()\n",
    "                for label in posteriors_dictlist[col].keys():\n",
    "                    for attr in posteriors_dictlist[col][label].keys():\n",
    "                        attr_set.add(attr)\n",
    "                \n",
    "                # Add attributes with counts of 1 (Laplace Smoothing) when no occurances for a given class\n",
    "                for label in posteriors_dictlist[col].keys():\n",
    "                    for attr in attr_set:\n",
    "                        if attr not in posteriors_dictlist[col][label].keys():\n",
    "                            # Start at 1 for Laplace smoothing\n",
    "                            posteriors_dictlist[col][label][attr] = 1\n",
    "                            \n",
    "            self.posteriors = posteriors_dictlist\n",
    "\n",
    "\n",
    "        # Fit all prior and posterior probabilities to the model\n",
    "        calculate_priors(y)\n",
    "        calculate_posteriors(self.priors, X, y)\n",
    "\n",
    "\n",
    "    def predict(self, test_set):\n",
    "# predict the class of a set of instances using a trained supervised Naive Bayes model.\n",
    "        \n",
    "        if (self.priors is None or self.posteriors is None):\n",
    "            raise ValueError(\"Naive Models model has not been fit.\")\n",
    "\n",
    "        predictions = []\n",
    "        n_test_instances = len(test_set[0])\n",
    "\n",
    "        # Make a prediction for every instance in the test set\n",
    "        for test_row in range(n_test_instances):\n",
    "            label_predict_probs = []\n",
    "            \n",
    "            # Calculate prediction probability for each class label\n",
    "            for label in self.priors.keys():\n",
    "                label_count = self.priors[label]\n",
    "                \n",
    "                # Prior log probability log(P(label))\n",
    "                label_prob = log(label_count / n_test_instances)\n",
    "                \n",
    "                # Sum the prediction probability and log(posterior probabilities) to avoid underlow\n",
    "                # Dividing by the number of labels + number of attribute values (Laplace Smoothing)\n",
    "                for test_col in range(len(test_set)):\n",
    "                    attr = test_set[test_col][test_row]\n",
    "                    \n",
    "                    posterior_prob = self.posteriors[test_col][label][attr] / \\\n",
    "                            (label_count + len(self.posteriors[test_col][label]))\n",
    "                    \n",
    "                    label_prob += log(posterior_prob)\n",
    "                \n",
    "                # Turn log probabilitiy back in probability\n",
    "                label_prob = exp(label_prob)\n",
    "                label_predict_probs.append((label_prob, label))\n",
    "\n",
    "            # Sort the predictions from high-low and predict the label with the highest probability\n",
    "            label_predict_probs.sort(reverse=True)\n",
    "            predictions.append(label_predict_probs[0][1])\n",
    "        \n",
    "        return predictions  # return a list of class predictions"
   ]
  },
  {
   "cell_type": "code",
   "execution_count": 3,
   "metadata": {},
   "outputs": [],
   "source": [
    "def preprocess(csv_path):\n",
    "#     read the file\n",
    "    df = pd.read_csv(csv_path, header=None)\n",
    "\n",
    "    # Add a list of each instance for each attribute (the first N-1 columns in the DataFrame)\n",
    "    instance_list = []\n",
    "    if ((len(df.columns) > 1)):\n",
    "        for attribute_index in range(0, (len(df.columns) - 2)):\n",
    "            instance_list.append(df[attribute_index].tolist())\n",
    "    \n",
    "    # Make sure attribute instances are in String format\n",
    "    for index in range (0, len(instance_list)):\n",
    "        instance_list[index] = [str(i) for i in instance_list[index]]\n",
    "        \n",
    "    class_list = []\n",
    "    if ((len(df.columns) > 0)):\n",
    "        class_list = df[(len(df.columns) - 1)].tolist()\n",
    "    class_list = [str(i) for i in class_list]\n",
    "    \n",
    "#     rethrn (<2D list of instances>, <list of class labels>, <number of unique labels>)\n",
    "    n_classes = len(set(class_list))\n",
    "    return instance_list, class_list, n_classes"
   ]
  },
  {
   "cell_type": "code",
   "execution_count": 4,
   "metadata": {},
   "outputs": [],
   "source": [
    "def evaluate_model(predicted_classes, actual_classes):\n",
    "#     Evaluates the number of correct predictions made by a Multinomial Naive Bayes classifier.\n",
    "    n_correct = 0\n",
    "    for test in range(len(predicted_classes)):\n",
    "        if predicted_classes[test] == actual_classes[test]:\n",
    "            n_correct += 1\n",
    "            \n",
    "    # Returns an accuracy score between [0,1].\n",
    "    return n_correct / len(predicted_classes) "
   ]
  },
  {
   "cell_type": "code",
   "execution_count": 5,
   "metadata": {},
   "outputs": [],
   "source": [
    "def test_and_print_results(dataset_csv_path):\n",
    "# Trains and evaluates a Multinomial Naive Bayes learner\n",
    "    \n",
    "    data = preprocess(dataset_csv_path)\n",
    "    \n",
    "    NB = NaiveBayesClassifier()\n",
    "    NB.train(data[0], data[1])\n",
    "    predicted_classes = NB.predict(data[0])\n",
    "    accuracy = evaluate_model(predicted_classes, data[1])\n",
    "    \n",
    "#     print the accuracy score\n",
    "    print('Accuracy: '+ '{0:.2f}'.format(accuracy * 100) + '% ')"
   ]
  },
  {
   "cell_type": "code",
   "execution_count": 6,
   "metadata": {},
   "outputs": [
    {
     "name": "stdout",
     "output_type": "stream",
     "text": [
      "Accuracy: 85.25% \n"
     ]
    }
   ],
   "source": [
    "test_and_print_results('Dataset.csv')"
   ]
  },
  {
   "cell_type": "markdown",
   "metadata": {},
   "source": [
    "### Prediction of Test Set"
   ]
  },
  {
   "cell_type": "code",
   "execution_count": 7,
   "metadata": {},
   "outputs": [
    {
     "name": "stdout",
     "output_type": "stream",
     "text": [
      "['Class', '-1', '1', '-1', '1', '-1', '-1', '-1', '1', '-1', '-1', '-1', '-1', '1', '-1', '-1', '-1', '-1', '1', '-1', '-1', '-1', '1', '1', '-1', '-1', '1', '1', '-1', '-1', '-1', '-1', '1', '1', '-1', '1', '-1', '-1', '1', '-1', '-1', '1', '1', '1', '-1', '-1', '1', '-1', '-1', '-1', '-1', '0', '1', '-1', '1', '1', '-1', '-1', '-1', '-1', '-1', '-1', '-1', '1', '1', '-1', '-1', '1', '1', '-1', '1', '1', '-1', '-1', '1', '1', '1', '1', '-1', '-1', '-1', '1', '1', '1', '1', '1', '1', '-1', '1', '-1', '1', '-1', '1', '-1', '-1', '-1', '1', '1', '1', '1', '-1']"
     ]
    }
   ],
   "source": [
    "data = preprocess('Dataset.csv')\n",
    "test = preprocess('test.csv')\n",
    "NB = NaiveBayesClassifier()\n",
    "NB.train(data[0], data[1])\n",
    "predicted_test = NB.predict(test[0])\n",
    "\n",
    "print(predicted_test, end = \"\")"
   ]
  }
 ],
 "metadata": {
  "kernelspec": {
   "display_name": "Python 3",
   "language": "python",
   "name": "python3"
  },
  "language_info": {
   "codemirror_mode": {
    "name": "ipython",
    "version": 3
   },
   "file_extension": ".py",
   "mimetype": "text/x-python",
   "name": "python",
   "nbconvert_exporter": "python",
   "pygments_lexer": "ipython3",
   "version": "3.7.1"
  }
 },
 "nbformat": 4,
 "nbformat_minor": 2
}
