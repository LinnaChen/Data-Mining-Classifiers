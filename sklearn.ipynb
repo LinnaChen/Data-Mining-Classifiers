{
 "cells": [
  {
   "cell_type": "markdown",
   "metadata": {},
   "source": [
    "## Classifiers by Scikit-Learn"
   ]
  },
  {
   "cell_type": "markdown",
   "metadata": {},
   "source": [
    "### Data Preparation "
   ]
  },
  {
   "cell_type": "code",
   "execution_count": 1,
   "metadata": {},
   "outputs": [],
   "source": [
    "import csv\n",
    "import random\n",
    "import pandas as pd\n",
    "from sklearn import tree\n",
    "from sklearn import ensemble\n",
    "from sklearn import metrics\n",
    "from sklearn.discriminant_analysis import LinearDiscriminantAnalysis as LDA"
   ]
  },
  {
   "cell_type": "code",
   "execution_count": 2,
   "metadata": {},
   "outputs": [],
   "source": [
    "def loadDataset(split, trainingSet=[], testSet=[]):\n",
    "    with open(\"Dataset.csv\", \"r\") as f:\n",
    "        reader = csv.reader(f)\n",
    "        dataset = [row for row in reader]\n",
    "        dataset.pop(0)\n",
    "    \n",
    "        for x in range(len(dataset)-1):\n",
    "            for y in range(9):\n",
    "                dataset[x][y] = float(dataset[x][y])\n",
    "                if random.random() < split:\n",
    "                    trainingSet.append(dataset[x])\n",
    "                else:\n",
    "                    testSet.append(dataset[x])\n",
    "    \n",
    "    return trainingSet, testSet        "
   ]
  },
  {
   "cell_type": "code",
   "execution_count": 3,
   "metadata": {},
   "outputs": [],
   "source": [
    "trainingSet = []\n",
    "testSet = []\n",
    "loadDataset(0.67, trainingSet, testSet)\n",
    "pd.DataFrame(testSet).head()\n",
    "\n",
    "x_train = []\n",
    "for i in trainingSet:\n",
    "    x_temp = i[:-1]\n",
    "    x_train.append(x_temp)\n",
    "    \n",
    "y_train = []\n",
    "for i in trainingSet:\n",
    "    y_temp = i[-1]\n",
    "    y_train.append(y_temp)\n",
    "    \n",
    "x_test = []\n",
    "for i in testSet:\n",
    "    x_temp = i[:-1]\n",
    "    x_test.append(x_temp)\n",
    "    \n",
    "y_test = []\n",
    "for i in testSet:\n",
    "    y_temp = i[-1]\n",
    "    y_test.append(y_temp)"
   ]
  },
  {
   "cell_type": "markdown",
   "metadata": {},
   "source": [
    "### Decision Tree Classifiers"
   ]
  },
  {
   "cell_type": "code",
   "execution_count": 4,
   "metadata": {},
   "outputs": [],
   "source": [
    "def dt_cls():\n",
    "    clf = tree.DecisionTreeClassifier()\n",
    "    data_clf = clf.fit(x_train, y_train)\n",
    "\n",
    "    y_test_predictions = data_clf.predict(x_test)\n",
    "    accuracy = metrics.accuracy_score(y_test, y_test_predictions)\n",
    "    \n",
    "    print('Accuracy: '+ '{0:.2f}'.format(accuracy * 100) + '% ')"
   ]
  },
  {
   "cell_type": "code",
   "execution_count": 5,
   "metadata": {},
   "outputs": [
    {
     "name": "stdout",
     "output_type": "stream",
     "text": [
      "Accuracy: 95.80% \n"
     ]
    }
   ],
   "source": [
    "dt_cls()"
   ]
  },
  {
   "cell_type": "markdown",
   "metadata": {},
   "source": [
    "### Random Forest Classifier"
   ]
  },
  {
   "cell_type": "code",
   "execution_count": 6,
   "metadata": {},
   "outputs": [],
   "source": [
    "def rf_cls():\n",
    "    forest = ensemble.RandomForestClassifier(n_estimators = 100)\n",
    "    forest_fit = forest.fit(x_train, y_train)\n",
    "\n",
    "    y_test_predicted = forest.predict(x_test)\n",
    "    accuracy = metrics.accuracy_score(y_test, y_test_predicted)\n",
    "    print('Accuracy: '+ '{0:.2f}'.format(accuracy * 100) + '% ')"
   ]
  },
  {
   "cell_type": "code",
   "execution_count": 7,
   "metadata": {},
   "outputs": [
    {
     "name": "stdout",
     "output_type": "stream",
     "text": [
      "Accuracy: 95.83% \n"
     ]
    }
   ],
   "source": [
    "rf_cls()"
   ]
  },
  {
   "cell_type": "markdown",
   "metadata": {},
   "source": [
    "### Ada Boost Classifier"
   ]
  },
  {
   "cell_type": "code",
   "execution_count": 8,
   "metadata": {},
   "outputs": [],
   "source": [
    "def adaBoost_cls():\n",
    "    clf = ensemble.AdaBoostClassifier(n_estimators = 100)\n",
    "    boost_fit = clf.fit(x_train, y_train)\n",
    "    \n",
    "    y_test_predicted = boost_fit.predict(x_test)\n",
    "    accuracy = metrics.accuracy_score(y_test, y_test_predicted)\n",
    "    print('Accuracy: '+ '{0:.2f}'.format(accuracy * 100) + '% ')"
   ]
  },
  {
   "cell_type": "code",
   "execution_count": 9,
   "metadata": {},
   "outputs": [
    {
     "name": "stdout",
     "output_type": "stream",
     "text": [
      "Accuracy: 85.21% \n"
     ]
    }
   ],
   "source": [
    "adaBoost_cls()"
   ]
  },
  {
   "cell_type": "markdown",
   "metadata": {},
   "source": [
    "### Bagging Classifier"
   ]
  },
  {
   "cell_type": "code",
   "execution_count": 10,
   "metadata": {},
   "outputs": [],
   "source": [
    "def bag_cls():\n",
    "    bag = ensemble.BaggingClassifier(n_estimators = 100)\n",
    "    bag_fit = bag.fit(x_train, y_train)\n",
    "    \n",
    "    y_test_predicted = bag_fit.predict(x_test)\n",
    "    accuracy = metrics.accuracy_score(y_test, y_test_predicted)\n",
    "    print('Accuracy: '+ '{0:.2f}'.format(accuracy * 100) + '% ')"
   ]
  },
  {
   "cell_type": "code",
   "execution_count": 11,
   "metadata": {},
   "outputs": [
    {
     "name": "stdout",
     "output_type": "stream",
     "text": [
      "Accuracy: 95.80% \n"
     ]
    }
   ],
   "source": [
    "bag_cls()"
   ]
  },
  {
   "cell_type": "markdown",
   "metadata": {},
   "source": [
    "### Linear Discriminant Analysis"
   ]
  },
  {
   "cell_type": "code",
   "execution_count": 12,
   "metadata": {},
   "outputs": [],
   "source": [
    "def linearDisc_cls():\n",
    "    lda = LDA()\n",
    "    lda_fit = lda.fit(x_train, y_train)\n",
    "    \n",
    "    y_test_predicted = lda_fit.predict(x_test)\n",
    "    accuracy = metrics.accuracy_score(y_test, y_test_predicted)\n",
    "    print('Accuracy: '+ '{0:.2f}'.format(accuracy * 100) + '% ')"
   ]
  },
  {
   "cell_type": "code",
   "execution_count": 13,
   "metadata": {},
   "outputs": [
    {
     "name": "stdout",
     "output_type": "stream",
     "text": [
      "Accuracy: 82.83% \n"
     ]
    }
   ],
   "source": [
    "linearDisc_cls()"
   ]
  }
 ],
 "metadata": {
  "kernelspec": {
   "display_name": "Python 3",
   "language": "python",
   "name": "python3"
  },
  "language_info": {
   "codemirror_mode": {
    "name": "ipython",
    "version": 3
   },
   "file_extension": ".py",
   "mimetype": "text/x-python",
   "name": "python",
   "nbconvert_exporter": "python",
   "pygments_lexer": "ipython3",
   "version": "3.7.1"
  }
 },
 "nbformat": 4,
 "nbformat_minor": 2
}
